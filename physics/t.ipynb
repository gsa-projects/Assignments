{
 "cells": [
  {
   "cell_type": "code",
   "execution_count": 18,
   "metadata": {
    "collapsed": true,
    "ExecuteTime": {
     "end_time": "2023-05-25T09:29:53.230723300Z",
     "start_time": "2023-05-25T09:19:52.054064500Z"
    }
   },
   "outputs": [],
   "source": [
    "import tkinter as tk\n",
    "from math import *\n",
    "\n",
    "# 초기화\n",
    "window = tk.Tk()\n",
    "canvas_width, canvas_height = 800, 600\n",
    "canvas = tk.Canvas(window, width=canvas_width, height=canvas_height)\n",
    "canvas.pack()\n",
    "\n",
    "def change_axis(x, y):\n",
    "    return x, canvas_height - y\n",
    "\n",
    "class Circle:\n",
    "    def __init__(self, center, radius, angle=0, outline=\"black\", fill=\"blue\"):\n",
    "        self.center = center\n",
    "        self.radius = radius\n",
    "        self.outline = outline\n",
    "        self.fill = fill\n",
    "        self.angle = angle\n",
    "\n",
    "    def draw(self):\n",
    "        canvas.create_oval(*change_axis(self.center[0] - self.radius, self.center[1] - self.radius), *change_axis(self.center[0] + self.radius, self.center[1] + self.radius), fill=self.fill, outline=self.outline)\n",
    "        canvas.create_line(*change_axis(*self.center), *change_axis(self.center[0] + self.radius*cos(angle), self.center[1] + self.radius*sin(angle)), fill=self.outline, width=2)\n",
    "\n",
    "angle = radians(75)\n",
    "Circle((400, 300), 50, angle).draw()\n",
    "\n",
    "# 클릭 이벤트 핸들러\n",
    "def handle_click(event):\n",
    "    x = event.x\n",
    "    y = event.y\n",
    "    print(\"Clicked at\", x, y)\n",
    "\n",
    "# 마우스 클릭 이벤트 바인딩\n",
    "canvas.bind(\"<Button-1>\", handle_click)\n",
    "\n",
    "# 게임 루프\n",
    "window.mainloop()\n"
   ]
  },
  {
   "cell_type": "code",
   "execution_count": null,
   "outputs": [],
   "source": [],
   "metadata": {
    "collapsed": false
   }
  }
 ],
 "metadata": {
  "kernelspec": {
   "display_name": "Python 3",
   "language": "python",
   "name": "python3"
  },
  "language_info": {
   "codemirror_mode": {
    "name": "ipython",
    "version": 2
   },
   "file_extension": ".py",
   "mimetype": "text/x-python",
   "name": "python",
   "nbconvert_exporter": "python",
   "pygments_lexer": "ipython2",
   "version": "2.7.6"
  }
 },
 "nbformat": 4,
 "nbformat_minor": 0
}
