{
 "cells": [
  {
   "cell_type": "code",
   "execution_count": 76,
   "outputs": [],
   "source": [
    "import torch\n",
    "import torch.nn as nn\n",
    "import torch.nn.functional as F\n",
    "import torch.optim as optim\n",
    "import torch.utils.data as data\n",
    "import numpy as np\n",
    "from IPython.display import clear_output"
   ],
   "metadata": {
    "collapsed": false,
    "ExecuteTime": {
     "end_time": "2023-05-12T01:37:39.892114Z",
     "start_time": "2023-05-12T01:37:39.880212300Z"
    }
   }
  },
  {
   "cell_type": "code",
   "execution_count": 81,
   "outputs": [
    {
     "data": {
      "text/plain": "(torch.Size([23376, 1, 15, 15]), torch.Size([23376, 1, 15, 15]))"
     },
     "execution_count": 81,
     "metadata": {},
     "output_type": "execute_result"
    }
   ],
   "source": [
    "x_train = torch.load('./models/x_train.pt').unsqueeze(1)\n",
    "y_train = torch.load('./models/y_train.pt').unsqueeze(1)\n",
    "\n",
    "x_train.shape, y_train.shape"
   ],
   "metadata": {
    "collapsed": false,
    "ExecuteTime": {
     "end_time": "2023-05-12T01:52:22.913907300Z",
     "start_time": "2023-05-12T01:52:22.881859Z"
    }
   }
  },
  {
   "cell_type": "code",
   "execution_count": 78,
   "outputs": [],
   "source": [
    "dataset = data.TensorDataset(x_train, y_train)\n",
    "dataloader = data.DataLoader(dataset, batch_size=32, shuffle=True)"
   ],
   "metadata": {
    "collapsed": false,
    "ExecuteTime": {
     "end_time": "2023-05-12T01:37:39.948422300Z",
     "start_time": "2023-05-12T01:37:39.943803400Z"
    }
   }
  },
  {
   "cell_type": "code",
   "execution_count": 79,
   "metadata": {
    "collapsed": true,
    "ExecuteTime": {
     "end_time": "2023-05-12T01:37:39.992431600Z",
     "start_time": "2023-05-12T01:37:39.952452400Z"
    }
   },
   "outputs": [],
   "source": [
    "model = nn.Sequential(\n",
    "    nn.Conv2d(1, 64, kernel_size=3, padding=1),\n",
    "    nn.ReLU(),\n",
    "    nn.Conv2d(64, 128, kernel_size=3, padding=1),\n",
    "    nn.ReLU(),\n",
    "    nn.Conv2d(128, 256, kernel_size=3, padding=1),\n",
    "    nn.ReLU(),\n",
    "    nn.Conv2d(256, 1, kernel_size=1)\n",
    ")\n",
    "cost = nn.MSELoss()\n",
    "optimizer = optim.Adam(model.parameters())"
   ]
  },
  {
   "cell_type": "code",
   "execution_count": null,
   "outputs": [
    {
     "name": "stdout",
     "output_type": "stream",
     "text": [
      "epoch:  6/10 322/731 cost: 0.000000\n"
     ]
    }
   ],
   "source": [
    "epochs = 10\n",
    "\n",
    "for epoch in range(1, epochs + 1):\n",
    "    run_loss = 0.\n",
    "    loss_total = 0.\n",
    "\n",
    "    for i, (x, y) in enumerate(dataloader):\n",
    "        prediction = model(x)\n",
    "        loss = cost(prediction, y)\n",
    "\n",
    "        optimizer.zero_grad()\n",
    "        loss.backward()\n",
    "        optimizer.step()\n",
    "\n",
    "        run_loss += loss.item() * x.size(0)\n",
    "\n",
    "        clear_output(wait=True)\n",
    "        print(f'epoch: {epoch:2d}/{epochs} {i}/{len(dataloader)} cost: {loss_total:.6f}')\n",
    "\n",
    "    loss_total = run_loss/len(dataloader.dataset)\n",
    "    print(f'epoch: {epoch:2d}/{epochs} cost: {loss_total:.6f}')\n",
    "\n",
    "torch.save(model, './models/model.pt')"
   ],
   "metadata": {
    "collapsed": false,
    "is_executing": true
   }
  },
  {
   "cell_type": "code",
   "execution_count": null,
   "outputs": [],
   "source": [
    "model = torch.load('./models/model.pt')\n",
    "\n",
    "v = torch.zeros((15, 15))\n",
    "v[2, 1] = 1.\n",
    "\n",
    "output = model(v.reshape((1, 15, 15)))[0]\n",
    "\n",
    "for row in range(15):\n",
    "    for col in range(15):\n",
    "        print(round(output[row, col].item()), end=' ')\n",
    "    print()"
   ],
   "metadata": {
    "collapsed": false,
    "is_executing": true
   }
  }
 ],
 "metadata": {
  "kernelspec": {
   "display_name": "Python 3",
   "language": "python",
   "name": "python3"
  },
  "language_info": {
   "codemirror_mode": {
    "name": "ipython",
    "version": 2
   },
   "file_extension": ".py",
   "mimetype": "text/x-python",
   "name": "python",
   "nbconvert_exporter": "python",
   "pygments_lexer": "ipython2",
   "version": "2.7.6"
  }
 },
 "nbformat": 4,
 "nbformat_minor": 0
}
