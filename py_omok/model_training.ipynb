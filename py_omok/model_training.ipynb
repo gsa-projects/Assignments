{
 "cells": [
  {
   "cell_type": "code",
   "execution_count": 1,
   "metadata": {
    "ExecuteTime": {
     "end_time": "2023-05-12T01:37:39.892114Z",
     "start_time": "2023-05-12T01:37:39.880212300Z"
    },
    "collapsed": false
   },
   "outputs": [],
   "source": [
    "import torch\n",
    "import torch.nn as nn\n",
    "import torch.nn.functional as F\n",
    "import torch.optim as optim\n",
    "import torch.utils.data as data\n",
    "import numpy as np\n",
    "from IPython.display import clear_output"
   ]
  },
  {
   "cell_type": "code",
   "execution_count": 2,
   "metadata": {
    "ExecuteTime": {
     "end_time": "2023-05-12T01:52:22.913907300Z",
     "start_time": "2023-05-12T01:52:22.881859Z"
    },
    "collapsed": false
   },
   "outputs": [
    {
     "data": {
      "text/plain": [
       "(torch.Size([23376, 1, 15, 15]), torch.Size([23376, 1, 15, 15]))"
      ]
     },
     "execution_count": 2,
     "metadata": {},
     "output_type": "execute_result"
    }
   ],
   "source": [
    "x_train = torch.load('./models/x_train.pt').unsqueeze(1)\n",
    "y_train = torch.load('./models/y_train.pt').unsqueeze(1)\n",
    "\n",
    "x_train.shape, y_train.shape"
   ]
  },
  {
   "cell_type": "code",
   "execution_count": 3,
   "metadata": {
    "ExecuteTime": {
     "end_time": "2023-05-12T01:37:39.948422300Z",
     "start_time": "2023-05-12T01:37:39.943803400Z"
    },
    "collapsed": false
   },
   "outputs": [],
   "source": [
    "dataset = data.TensorDataset(x_train, y_train)\n",
    "dataloader = data.DataLoader(dataset, batch_size=32, shuffle=True)"
   ]
  },
  {
   "cell_type": "code",
   "execution_count": 4,
   "metadata": {
    "ExecuteTime": {
     "end_time": "2023-05-12T01:37:39.992431600Z",
     "start_time": "2023-05-12T01:37:39.952452400Z"
    },
    "collapsed": true
   },
   "outputs": [],
   "source": [
    "model = nn.Sequential(\n",
    "    nn.Conv2d(1, 64, kernel_size=3, padding=1),\n",
    "    nn.ReLU(),\n",
    "    nn.Conv2d(64, 128, kernel_size=3, padding=1),\n",
    "    nn.ReLU(),\n",
    "    nn.Conv2d(128, 256, kernel_size=3, padding=1),\n",
    "    nn.ReLU(),\n",
    "    nn.Conv2d(256, 1, kernel_size=1)\n",
    ")\n",
    "cost = nn.MSELoss()\n",
    "optimizer = optim.Adam(model.parameters())"
   ]
  },
  {
   "cell_type": "code",
   "execution_count": 5,
   "metadata": {
    "collapsed": false,
    "is_executing": true
   },
   "outputs": [
    {
     "name": "stdout",
     "output_type": "stream",
     "text": [
      "epoch: 10/10 730/731 cost: 0.000000\n",
      "epoch: 10/10 cost: 4.106892\n"
     ]
    }
   ],
   "source": [
    "epochs = 10\n",
    "\n",
    "for epoch in range(1, epochs + 1):\n",
    "    run_loss = 0.\n",
    "    loss_total = 0.\n",
    "\n",
    "    for i, (x, y) in enumerate(dataloader):\n",
    "        prediction = model(x)\n",
    "        loss = cost(prediction, y)\n",
    "\n",
    "        optimizer.zero_grad()\n",
    "        loss.backward()\n",
    "        optimizer.step()\n",
    "\n",
    "        run_loss += loss.item() * x.size(0)\n",
    "\n",
    "        clear_output(wait=True)\n",
    "        print(f'epoch: {epoch:2d}/{epochs} {i}/{len(dataloader)} cost: {loss_total:.6f}')\n",
    "\n",
    "    loss_total = run_loss/len(dataloader.dataset)\n",
    "    print(f'epoch: {epoch:2d}/{epochs} cost: {loss_total:.6f}')\n",
    "\n",
    "torch.save(model, './models/model.pt')"
   ]
  },
  {
   "cell_type": "code",
   "execution_count": 30,
   "metadata": {
    "collapsed": false,
    "is_executing": true
   },
   "outputs": [
    {
     "data": {
      "text/plain": [
       "torch.Size([15, 15])"
      ]
     },
     "execution_count": 30,
     "metadata": {},
     "output_type": "execute_result"
    }
   ],
   "source": [
    "model = torch.load('./models/model.pt')\n",
    "\n",
    "v = torch.zeros((15, 15))\n",
    "v[2, 1] = 1.\n",
    "\n",
    "# for row in range(15):\n",
    "#     for col in range(15):\n",
    "#         print(v[row, col].item(), end=' ')\n",
    "#     print()\n",
    "\n",
    "output = model(v.reshape((1, 15, 15)))[0]\n",
    "\n",
    "# print()\n",
    "\n",
    "# for row in range(15):\n",
    "#     for col in range(15):\n",
    "#         print(f'{output[row, col].item():.2f}', end=' ')\n",
    "#     print()\n",
    "\n",
    "# x = torch.topk(output.reshape((225)), k=2)\n",
    "# value, idx = x.values[1].item(), x.indices[1].item()\n",
    "# print(f'output[{idx // 15, idx % 15}] = {value}')\n",
    "output.shape"
   ]
  },
  {
   "cell_type": "code",
   "execution_count": 31,
   "metadata": {},
   "outputs": [
    {
     "data": {
      "text/plain": [
       "tensor([True])"
      ]
     },
     "execution_count": 31,
     "metadata": {},
     "output_type": "execute_result"
    }
   ],
   "source": [
    "torch.FloatTensor([1]) < torch.FloatTensor([2])"
   ]
  },
  {
   "cell_type": "code",
   "execution_count": null,
   "metadata": {},
   "outputs": [],
   "source": []
  }
 ],
 "metadata": {
  "kernelspec": {
   "display_name": "Python 3",
   "language": "python",
   "name": "python3"
  },
  "language_info": {
   "codemirror_mode": {
    "name": "ipython",
    "version": 3
   },
   "file_extension": ".py",
   "mimetype": "text/x-python",
   "name": "python",
   "nbconvert_exporter": "python",
   "pygments_lexer": "ipython3",
   "version": "3.11.3"
  }
 },
 "nbformat": 4,
 "nbformat_minor": 0
}
