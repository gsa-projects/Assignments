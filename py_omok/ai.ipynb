{
 "cells": [
  {
   "cell_type": "code",
   "execution_count": null,
   "metadata": {
    "collapsed": true
   },
   "outputs": [],
   "source": [
    "import torch\n",
    "import torch.nn as nn\n",
    "import torch.nn.functional as F\n",
    "import torch.optim as optim\n",
    "import os\n",
    "import numpy as np\n",
    "import re"
   ]
  },
  {
   "cell_type": "code",
   "execution_count": null,
   "outputs": [],
   "source": [
    "files = os.listdir('./train_data')\n",
    "datas = []\n",
    "\n",
    "for file_path in files:\n",
    "    with open('./train_data/'+file_path, 'r') as file:\n",
    "        origin = np.array(list(map(float, re.compile(r'\\d+\\.').findall(file.read())))).reshape((15, 15))\n",
    "        fliplr = np.fliplr(origin)\n",
    "        flipud = np.flipud(origin)\n",
    "\n",
    "        for mat in (origin, fliplr, flipud):\n",
    "            datas.append(mat)\n",
    "            datas.append(np.rot90(mat))\n",
    "            datas.append(np.rot90(mat, 2))\n",
    "            datas.append(np.rot90(mat, 3))"
   ],
   "metadata": {
    "collapsed": false
   }
  },
  {
   "cell_type": "code",
   "execution_count": null,
   "outputs": [],
   "source": [],
   "metadata": {
    "collapsed": false
   }
  }
 ],
 "metadata": {
  "kernelspec": {
   "display_name": "Python 3",
   "language": "python",
   "name": "python3"
  },
  "language_info": {
   "codemirror_mode": {
    "name": "ipython",
    "version": 2
   },
   "file_extension": ".py",
   "mimetype": "text/x-python",
   "name": "python",
   "nbconvert_exporter": "python",
   "pygments_lexer": "ipython2",
   "version": "2.7.6"
  }
 },
 "nbformat": 4,
 "nbformat_minor": 0
}
